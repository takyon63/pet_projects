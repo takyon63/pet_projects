{
 "cells": [
  {
   "cell_type": "code",
   "execution_count": 1,
   "metadata": {
    "_cell_guid": "b1076dfc-b9ad-4769-8c92-a6c4dae69d19",
    "_uuid": "8f2839f25d086af736a60e9eeb907d3b93b6e0e5",
    "execution": {
     "iopub.execute_input": "2021-08-22T15:13:23.125228Z",
     "iopub.status.busy": "2021-08-22T15:13:23.124547Z",
     "iopub.status.idle": "2021-08-22T15:13:23.140831Z",
     "shell.execute_reply": "2021-08-22T15:13:23.140144Z",
     "shell.execute_reply.started": "2021-08-22T14:24:10.190304Z"
    },
    "papermill": {
     "duration": 0.074819,
     "end_time": "2021-08-22T15:13:23.141015",
     "exception": false,
     "start_time": "2021-08-22T15:13:23.066196",
     "status": "completed"
    },
    "tags": []
   },
   "outputs": [
    {
     "name": "stdout",
     "output_type": "stream",
     "text": [
      "/kaggle/input/electrity-prices/electricity_prices.csv\n"
     ]
    }
   ],
   "source": [
    "# This Python 3 environment comes with many helpful analytics libraries installed\n",
    "# It is defined by the kaggle/python Docker image: https://github.com/kaggle/docker-python\n",
    "# For example, here's several helpful packages to load\n",
    "\n",
    "import numpy as np # linear algebra\n",
    "import pandas as pd # data processing, CSV file I/O (e.g. pd.read_csv)\n",
    "\n",
    "# Input data files are available in the read-only \"../input/\" directory\n",
    "# For example, running this (by clicking run or pressing Shift+Enter) will list all files under the input directory\n",
    "\n",
    "import os\n",
    "for dirname, _, filenames in os.walk('/kaggle/input'):\n",
    "    for filename in filenames:\n",
    "        print(os.path.join(dirname, filename))\n",
    "\n",
    "# You can write up to 20GB to the current directory (/kaggle/working/) that gets preserved as output when you create a version using \"Save & Run All\" \n",
    "# You can also write temporary files to /kaggle/temp/, but they won't be saved outside of the current session"
   ]
  },
  {
   "cell_type": "markdown",
   "metadata": {
    "papermill": {
     "duration": 0.041991,
     "end_time": "2021-08-22T15:13:23.225971",
     "exception": false,
     "start_time": "2021-08-22T15:13:23.183980",
     "status": "completed"
    },
    "tags": []
   },
   "source": [
    "**Goal of this notebook is to predict electricity prices using given features.**"
   ]
  },
  {
   "cell_type": "markdown",
   "metadata": {
    "papermill": {
     "duration": 0.041712,
     "end_time": "2021-08-22T15:13:23.311210",
     "exception": false,
     "start_time": "2021-08-22T15:13:23.269498",
     "status": "completed"
    },
    "tags": []
   },
   "source": [
    "1. Upload data and necessary libraries"
   ]
  },
  {
   "cell_type": "code",
   "execution_count": 2,
   "metadata": {
    "execution": {
     "iopub.execute_input": "2021-08-22T15:13:23.402642Z",
     "iopub.status.busy": "2021-08-22T15:13:23.401976Z",
     "iopub.status.idle": "2021-08-22T15:13:25.227190Z",
     "shell.execute_reply": "2021-08-22T15:13:25.227719Z",
     "shell.execute_reply.started": "2021-08-22T14:31:19.172547Z"
    },
    "papermill": {
     "duration": 1.873843,
     "end_time": "2021-08-22T15:13:25.227910",
     "exception": false,
     "start_time": "2021-08-22T15:13:23.354067",
     "status": "completed"
    },
    "tags": []
   },
   "outputs": [
    {
     "name": "stderr",
     "output_type": "stream",
     "text": [
      "/opt/conda/lib/python3.7/site-packages/IPython/core/interactiveshell.py:3170: DtypeWarning: Columns (9,10,11,14,15,16,17) have mixed types.Specify dtype option on import or set low_memory=False.\n",
      "  interactivity=interactivity, compiler=compiler, result=result)\n"
     ]
    },
    {
     "data": {
      "text/html": [
       "<div>\n",
       "<style scoped>\n",
       "    .dataframe tbody tr th:only-of-type {\n",
       "        vertical-align: middle;\n",
       "    }\n",
       "\n",
       "    .dataframe tbody tr th {\n",
       "        vertical-align: top;\n",
       "    }\n",
       "\n",
       "    .dataframe thead th {\n",
       "        text-align: right;\n",
       "    }\n",
       "</style>\n",
       "<table border=\"1\" class=\"dataframe\">\n",
       "  <thead>\n",
       "    <tr style=\"text-align: right;\">\n",
       "      <th></th>\n",
       "      <th>DateTime</th>\n",
       "      <th>Holiday</th>\n",
       "      <th>HolidayFlag</th>\n",
       "      <th>DayOfWeek</th>\n",
       "      <th>WeekOfYear</th>\n",
       "      <th>Day</th>\n",
       "      <th>Month</th>\n",
       "      <th>Year</th>\n",
       "      <th>PeriodOfDay</th>\n",
       "      <th>ForecastWindProduction</th>\n",
       "      <th>SystemLoadEA</th>\n",
       "      <th>SMPEA</th>\n",
       "      <th>ORKTemperature</th>\n",
       "      <th>ORKWindspeed</th>\n",
       "      <th>CO2Intensity</th>\n",
       "      <th>ActualWindProduction</th>\n",
       "      <th>SystemLoadEP2</th>\n",
       "      <th>SMPEP2</th>\n",
       "    </tr>\n",
       "  </thead>\n",
       "  <tbody>\n",
       "    <tr>\n",
       "      <th>0</th>\n",
       "      <td>01/11/2011 00:00</td>\n",
       "      <td>None</td>\n",
       "      <td>0</td>\n",
       "      <td>1</td>\n",
       "      <td>44</td>\n",
       "      <td>1</td>\n",
       "      <td>11</td>\n",
       "      <td>2011</td>\n",
       "      <td>0</td>\n",
       "      <td>315.31</td>\n",
       "      <td>3388.77</td>\n",
       "      <td>49.26</td>\n",
       "      <td>6.00</td>\n",
       "      <td>9.30</td>\n",
       "      <td>600.71</td>\n",
       "      <td>356.00</td>\n",
       "      <td>3159.60</td>\n",
       "      <td>54.32</td>\n",
       "    </tr>\n",
       "    <tr>\n",
       "      <th>1</th>\n",
       "      <td>01/11/2011 00:30</td>\n",
       "      <td>None</td>\n",
       "      <td>0</td>\n",
       "      <td>1</td>\n",
       "      <td>44</td>\n",
       "      <td>1</td>\n",
       "      <td>11</td>\n",
       "      <td>2011</td>\n",
       "      <td>1</td>\n",
       "      <td>321.80</td>\n",
       "      <td>3196.66</td>\n",
       "      <td>49.26</td>\n",
       "      <td>6.00</td>\n",
       "      <td>11.10</td>\n",
       "      <td>605.42</td>\n",
       "      <td>317.00</td>\n",
       "      <td>2973.01</td>\n",
       "      <td>54.23</td>\n",
       "    </tr>\n",
       "    <tr>\n",
       "      <th>2</th>\n",
       "      <td>01/11/2011 01:00</td>\n",
       "      <td>None</td>\n",
       "      <td>0</td>\n",
       "      <td>1</td>\n",
       "      <td>44</td>\n",
       "      <td>1</td>\n",
       "      <td>11</td>\n",
       "      <td>2011</td>\n",
       "      <td>2</td>\n",
       "      <td>328.57</td>\n",
       "      <td>3060.71</td>\n",
       "      <td>49.10</td>\n",
       "      <td>5.00</td>\n",
       "      <td>11.10</td>\n",
       "      <td>589.97</td>\n",
       "      <td>311.00</td>\n",
       "      <td>2834.00</td>\n",
       "      <td>54.23</td>\n",
       "    </tr>\n",
       "    <tr>\n",
       "      <th>3</th>\n",
       "      <td>01/11/2011 01:30</td>\n",
       "      <td>None</td>\n",
       "      <td>0</td>\n",
       "      <td>1</td>\n",
       "      <td>44</td>\n",
       "      <td>1</td>\n",
       "      <td>11</td>\n",
       "      <td>2011</td>\n",
       "      <td>3</td>\n",
       "      <td>335.60</td>\n",
       "      <td>2945.56</td>\n",
       "      <td>48.04</td>\n",
       "      <td>6.00</td>\n",
       "      <td>9.30</td>\n",
       "      <td>585.94</td>\n",
       "      <td>313.00</td>\n",
       "      <td>2725.99</td>\n",
       "      <td>53.47</td>\n",
       "    </tr>\n",
       "    <tr>\n",
       "      <th>4</th>\n",
       "      <td>01/11/2011 02:00</td>\n",
       "      <td>None</td>\n",
       "      <td>0</td>\n",
       "      <td>1</td>\n",
       "      <td>44</td>\n",
       "      <td>1</td>\n",
       "      <td>11</td>\n",
       "      <td>2011</td>\n",
       "      <td>4</td>\n",
       "      <td>342.90</td>\n",
       "      <td>2849.34</td>\n",
       "      <td>33.75</td>\n",
       "      <td>6.00</td>\n",
       "      <td>11.10</td>\n",
       "      <td>571.52</td>\n",
       "      <td>346.00</td>\n",
       "      <td>2655.64</td>\n",
       "      <td>39.87</td>\n",
       "    </tr>\n",
       "  </tbody>\n",
       "</table>\n",
       "</div>"
      ],
      "text/plain": [
       "           DateTime Holiday  HolidayFlag  DayOfWeek  WeekOfYear  Day  Month  \\\n",
       "0  01/11/2011 00:00    None            0          1          44    1     11   \n",
       "1  01/11/2011 00:30    None            0          1          44    1     11   \n",
       "2  01/11/2011 01:00    None            0          1          44    1     11   \n",
       "3  01/11/2011 01:30    None            0          1          44    1     11   \n",
       "4  01/11/2011 02:00    None            0          1          44    1     11   \n",
       "\n",
       "   Year  PeriodOfDay ForecastWindProduction SystemLoadEA  SMPEA  \\\n",
       "0  2011            0                 315.31      3388.77  49.26   \n",
       "1  2011            1                 321.80      3196.66  49.26   \n",
       "2  2011            2                 328.57      3060.71  49.10   \n",
       "3  2011            3                 335.60      2945.56  48.04   \n",
       "4  2011            4                 342.90      2849.34  33.75   \n",
       "\n",
       "  ORKTemperature ORKWindspeed CO2Intensity ActualWindProduction SystemLoadEP2  \\\n",
       "0           6.00         9.30       600.71               356.00       3159.60   \n",
       "1           6.00        11.10       605.42               317.00       2973.01   \n",
       "2           5.00        11.10       589.97               311.00       2834.00   \n",
       "3           6.00         9.30       585.94               313.00       2725.99   \n",
       "4           6.00        11.10       571.52               346.00       2655.64   \n",
       "\n",
       "  SMPEP2  \n",
       "0  54.32  \n",
       "1  54.23  \n",
       "2  54.23  \n",
       "3  53.47  \n",
       "4  39.87  "
      ]
     },
     "execution_count": 2,
     "metadata": {},
     "output_type": "execute_result"
    }
   ],
   "source": [
    "import matplotlib as plt\n",
    "import seaborn as sns\n",
    "from xgboost import XGBRegressor\n",
    "from sklearn.metrics import mean_absolute_error\n",
    "from sklearn.ensemble import RandomForestRegressor\n",
    "from sklearn.model_selection import train_test_split\n",
    "from sklearn.model_selection import cross_val_score\n",
    "\n",
    "X = pd.read_csv('/kaggle/input/electrity-prices/electricity_prices.csv')\n",
    "X_full = X.copy()\n",
    "X.head()"
   ]
  },
  {
   "cell_type": "markdown",
   "metadata": {
    "papermill": {
     "duration": 0.043698,
     "end_time": "2021-08-22T15:13:25.314741",
     "exception": false,
     "start_time": "2021-08-22T15:13:25.271043",
     "status": "completed"
    },
    "tags": []
   },
   "source": [
    "Data set uploader has these explanations for the  features:\n",
    "> Column Description:\n",
    "\n",
    "    DateTime: String, defines date and time of sample\n",
    "    Holiday: String, gives name of holiday if day is a bank holiday\n",
    "    HolidayFlag: integer, 1 if day is a bank holiday, zero otherwise\n",
    "    DayOfWeek: integer (0-6), 0 monday, day of week\n",
    "    WeekOfYear: integer, running week within year of this date\n",
    "    Day integer: day of the date\n",
    "    Month integer: month of the date\n",
    "    Year integer: year of the date\n",
    "    PeriodOfDay integer: denotes half hour period of day (0-47)\n",
    "    ForecastWindProduction: the forecasted wind production for this period\n",
    "    SystemLoadEA: the national load forecast for this period\n",
    "    SMPEA: the price forecast for this period\n",
    "    ORKTemperature: the actual temperature measured at Cork airport\n",
    "    ORKWindspeed: the actual windspeed measured at Cork airport\n",
    "    CO2Intensity: the actual CO2 intensity in (g/kWh) for the electricity produced\n",
    "    ActualWindProduction: the actual wind energy production for this period\n",
    "    SystemLoadEP2: the actual national system load for this period\n",
    "    SMPEP2: the actual price of this time period, the value to be forecasted\n",
    "\n",
    "SMPEP2 is the value that we need to build model to predict"
   ]
  },
  {
   "cell_type": "markdown",
   "metadata": {
    "papermill": {
     "duration": 0.043039,
     "end_time": "2021-08-22T15:13:25.401093",
     "exception": false,
     "start_time": "2021-08-22T15:13:25.358054",
     "status": "completed"
    },
    "tags": []
   },
   "source": [
    "2. Look up info about this data set"
   ]
  },
  {
   "cell_type": "code",
   "execution_count": 3,
   "metadata": {
    "execution": {
     "iopub.execute_input": "2021-08-22T15:13:25.533841Z",
     "iopub.status.busy": "2021-08-22T15:13:25.532705Z",
     "iopub.status.idle": "2021-08-22T15:13:25.554150Z",
     "shell.execute_reply": "2021-08-22T15:13:25.554695Z",
     "shell.execute_reply.started": "2021-08-22T14:31:29.662479Z"
    },
    "papermill": {
     "duration": 0.110057,
     "end_time": "2021-08-22T15:13:25.554923",
     "exception": false,
     "start_time": "2021-08-22T15:13:25.444866",
     "status": "completed"
    },
    "tags": []
   },
   "outputs": [
    {
     "name": "stdout",
     "output_type": "stream",
     "text": [
      "<class 'pandas.core.frame.DataFrame'>\n",
      "RangeIndex: 38014 entries, 0 to 38013\n",
      "Data columns (total 18 columns):\n",
      " #   Column                  Non-Null Count  Dtype \n",
      "---  ------                  --------------  ----- \n",
      " 0   DateTime                38014 non-null  object\n",
      " 1   Holiday                 38014 non-null  object\n",
      " 2   HolidayFlag             38014 non-null  int64 \n",
      " 3   DayOfWeek               38014 non-null  int64 \n",
      " 4   WeekOfYear              38014 non-null  int64 \n",
      " 5   Day                     38014 non-null  int64 \n",
      " 6   Month                   38014 non-null  int64 \n",
      " 7   Year                    38014 non-null  int64 \n",
      " 8   PeriodOfDay             38014 non-null  int64 \n",
      " 9   ForecastWindProduction  38014 non-null  object\n",
      " 10  SystemLoadEA            38014 non-null  object\n",
      " 11  SMPEA                   38014 non-null  object\n",
      " 12  ORKTemperature          38014 non-null  object\n",
      " 13  ORKWindspeed            38014 non-null  object\n",
      " 14  CO2Intensity            38014 non-null  object\n",
      " 15  ActualWindProduction    38014 non-null  object\n",
      " 16  SystemLoadEP2           38014 non-null  object\n",
      " 17  SMPEP2                  38014 non-null  object\n",
      "dtypes: int64(7), object(11)\n",
      "memory usage: 5.2+ MB\n"
     ]
    }
   ],
   "source": [
    "X.info()"
   ]
  },
  {
   "cell_type": "markdown",
   "metadata": {
    "papermill": {
     "duration": 0.043499,
     "end_time": "2021-08-22T15:13:25.642406",
     "exception": false,
     "start_time": "2021-08-22T15:13:25.598907",
     "status": "completed"
    },
    "tags": []
   },
   "source": [
    "If we try to apply numeric functions to certain columns e.g. SMPEP2, SMPEA etc. it will throw exception. It happens because Null values  shown as '?' instead of np.NaN. Let's fix that"
   ]
  },
  {
   "cell_type": "code",
   "execution_count": 4,
   "metadata": {
    "execution": {
     "iopub.execute_input": "2021-08-22T15:13:25.735934Z",
     "iopub.status.busy": "2021-08-22T15:13:25.735124Z",
     "iopub.status.idle": "2021-08-22T15:13:25.811344Z",
     "shell.execute_reply": "2021-08-22T15:13:25.811859Z",
     "shell.execute_reply.started": "2021-08-22T14:32:31.269384Z"
    },
    "papermill": {
     "duration": 0.12531,
     "end_time": "2021-08-22T15:13:25.812065",
     "exception": false,
     "start_time": "2021-08-22T15:13:25.686755",
     "status": "completed"
    },
    "tags": []
   },
   "outputs": [
    {
     "data": {
      "text/plain": [
       "DateTime                    0\n",
       "Holiday                     0\n",
       "HolidayFlag                 0\n",
       "DayOfWeek                   0\n",
       "WeekOfYear                  0\n",
       "Day                         0\n",
       "Month                       0\n",
       "Year                        0\n",
       "PeriodOfDay                 0\n",
       "ForecastWindProduction      5\n",
       "SystemLoadEA                2\n",
       "SMPEA                       2\n",
       "ORKTemperature            295\n",
       "ORKWindspeed              299\n",
       "CO2Intensity                7\n",
       "ActualWindProduction        5\n",
       "SystemLoadEP2               2\n",
       "SMPEP2                      2\n",
       "dtype: int64"
      ]
     },
     "execution_count": 4,
     "metadata": {},
     "output_type": "execute_result"
    }
   ],
   "source": [
    "X=X.replace('?', np.NaN)\n",
    "X.isnull().sum()"
   ]
  },
  {
   "cell_type": "markdown",
   "metadata": {
    "papermill": {
     "duration": 0.045171,
     "end_time": "2021-08-22T15:13:25.902944",
     "exception": false,
     "start_time": "2021-08-22T15:13:25.857773",
     "status": "completed"
    },
    "tags": []
   },
   "source": [
    "As we can see there a few null values. Now we can change type of columns to numeric types"
   ]
  },
  {
   "cell_type": "code",
   "execution_count": 5,
   "metadata": {
    "execution": {
     "iopub.execute_input": "2021-08-22T15:13:26.000990Z",
     "iopub.status.busy": "2021-08-22T15:13:26.000290Z",
     "iopub.status.idle": "2021-08-22T15:13:26.222882Z",
     "shell.execute_reply": "2021-08-22T15:13:26.223464Z",
     "shell.execute_reply.started": "2021-08-22T14:32:34.750781Z"
    },
    "papermill": {
     "duration": 0.274519,
     "end_time": "2021-08-22T15:13:26.223691",
     "exception": false,
     "start_time": "2021-08-22T15:13:25.949172",
     "status": "completed"
    },
    "tags": []
   },
   "outputs": [],
   "source": [
    "o_list=['ForecastWindProduction','SystemLoadEA','SMPEA', 'ORKTemperature',\n",
    "'ORKWindspeed','CO2Intensity','ActualWindProduction','SystemLoadEP2', 'SMPEP2']\n",
    "X[o_list]=X[o_list].apply(pd.to_numeric)"
   ]
  },
  {
   "cell_type": "code",
   "execution_count": 6,
   "metadata": {
    "execution": {
     "iopub.execute_input": "2021-08-22T15:13:26.328464Z",
     "iopub.status.busy": "2021-08-22T15:13:26.327737Z",
     "iopub.status.idle": "2021-08-22T15:13:26.341773Z",
     "shell.execute_reply": "2021-08-22T15:13:26.342415Z",
     "shell.execute_reply.started": "2021-08-22T14:32:43.981190Z"
    },
    "papermill": {
     "duration": 0.073122,
     "end_time": "2021-08-22T15:13:26.342614",
     "exception": false,
     "start_time": "2021-08-22T15:13:26.269492",
     "status": "completed"
    },
    "tags": []
   },
   "outputs": [
    {
     "name": "stdout",
     "output_type": "stream",
     "text": [
      "<class 'pandas.core.frame.DataFrame'>\n",
      "RangeIndex: 38014 entries, 0 to 38013\n",
      "Data columns (total 18 columns):\n",
      " #   Column                  Non-Null Count  Dtype  \n",
      "---  ------                  --------------  -----  \n",
      " 0   DateTime                38014 non-null  object \n",
      " 1   Holiday                 38014 non-null  object \n",
      " 2   HolidayFlag             38014 non-null  int64  \n",
      " 3   DayOfWeek               38014 non-null  int64  \n",
      " 4   WeekOfYear              38014 non-null  int64  \n",
      " 5   Day                     38014 non-null  int64  \n",
      " 6   Month                   38014 non-null  int64  \n",
      " 7   Year                    38014 non-null  int64  \n",
      " 8   PeriodOfDay             38014 non-null  int64  \n",
      " 9   ForecastWindProduction  38009 non-null  float64\n",
      " 10  SystemLoadEA            38012 non-null  float64\n",
      " 11  SMPEA                   38012 non-null  float64\n",
      " 12  ORKTemperature          37719 non-null  float64\n",
      " 13  ORKWindspeed            37715 non-null  float64\n",
      " 14  CO2Intensity            38007 non-null  float64\n",
      " 15  ActualWindProduction    38009 non-null  float64\n",
      " 16  SystemLoadEP2           38012 non-null  float64\n",
      " 17  SMPEP2                  38012 non-null  float64\n",
      "dtypes: float64(9), int64(7), object(2)\n",
      "memory usage: 5.2+ MB\n"
     ]
    }
   ],
   "source": [
    "X.info()"
   ]
  },
  {
   "cell_type": "markdown",
   "metadata": {
    "papermill": {
     "duration": 0.044303,
     "end_time": "2021-08-22T15:13:26.431101",
     "exception": false,
     "start_time": "2021-08-22T15:13:26.386798",
     "status": "completed"
    },
    "tags": []
   },
   "source": [
    "3. Change DateTime column to datetime type"
   ]
  },
  {
   "cell_type": "code",
   "execution_count": 7,
   "metadata": {
    "execution": {
     "iopub.execute_input": "2021-08-22T15:13:26.522930Z",
     "iopub.status.busy": "2021-08-22T15:13:26.522248Z",
     "iopub.status.idle": "2021-08-22T15:13:30.265832Z",
     "shell.execute_reply": "2021-08-22T15:13:30.265116Z",
     "shell.execute_reply.started": "2021-08-22T14:32:47.829173Z"
    },
    "papermill": {
     "duration": 3.790636,
     "end_time": "2021-08-22T15:13:30.265996",
     "exception": false,
     "start_time": "2021-08-22T15:13:26.475360",
     "status": "completed"
    },
    "tags": []
   },
   "outputs": [],
   "source": [
    "X['DateTime']=pd.to_datetime(X['DateTime'],dayfirst=True)"
   ]
  },
  {
   "cell_type": "markdown",
   "metadata": {
    "papermill": {
     "duration": 0.043534,
     "end_time": "2021-08-22T15:13:30.354834",
     "exception": false,
     "start_time": "2021-08-22T15:13:30.311300",
     "status": "completed"
    },
    "tags": []
   },
   "source": [
    "4. Because of small amount of rows with null values, so we can drop them"
   ]
  },
  {
   "cell_type": "code",
   "execution_count": 8,
   "metadata": {
    "execution": {
     "iopub.execute_input": "2021-08-22T15:13:30.453978Z",
     "iopub.status.busy": "2021-08-22T15:13:30.453243Z",
     "iopub.status.idle": "2021-08-22T15:13:30.485975Z",
     "shell.execute_reply": "2021-08-22T15:13:30.485396Z",
     "shell.execute_reply.started": "2021-08-22T14:32:55.291392Z"
    },
    "papermill": {
     "duration": 0.087126,
     "end_time": "2021-08-22T15:13:30.486117",
     "exception": false,
     "start_time": "2021-08-22T15:13:30.398991",
     "status": "completed"
    },
    "tags": []
   },
   "outputs": [],
   "source": [
    "X=X.dropna()"
   ]
  },
  {
   "cell_type": "code",
   "execution_count": 9,
   "metadata": {
    "execution": {
     "iopub.execute_input": "2021-08-22T15:13:30.581055Z",
     "iopub.status.busy": "2021-08-22T15:13:30.580058Z",
     "iopub.status.idle": "2021-08-22T15:13:30.594582Z",
     "shell.execute_reply": "2021-08-22T15:13:30.595021Z",
     "shell.execute_reply.started": "2021-08-22T14:32:57.327463Z"
    },
    "papermill": {
     "duration": 0.06345,
     "end_time": "2021-08-22T15:13:30.595229",
     "exception": false,
     "start_time": "2021-08-22T15:13:30.531779",
     "status": "completed"
    },
    "tags": []
   },
   "outputs": [
    {
     "data": {
      "text/plain": [
       "DateTime                  0\n",
       "Holiday                   0\n",
       "HolidayFlag               0\n",
       "DayOfWeek                 0\n",
       "WeekOfYear                0\n",
       "Day                       0\n",
       "Month                     0\n",
       "Year                      0\n",
       "PeriodOfDay               0\n",
       "ForecastWindProduction    0\n",
       "SystemLoadEA              0\n",
       "SMPEA                     0\n",
       "ORKTemperature            0\n",
       "ORKWindspeed              0\n",
       "CO2Intensity              0\n",
       "ActualWindProduction      0\n",
       "SystemLoadEP2             0\n",
       "SMPEP2                    0\n",
       "dtype: int64"
      ]
     },
     "execution_count": 9,
     "metadata": {},
     "output_type": "execute_result"
    }
   ],
   "source": [
    "X.isnull().sum()"
   ]
  },
  {
   "cell_type": "markdown",
   "metadata": {
    "papermill": {
     "duration": 0.044502,
     "end_time": "2021-08-22T15:13:30.684335",
     "exception": false,
     "start_time": "2021-08-22T15:13:30.639833",
     "status": "completed"
    },
    "tags": []
   },
   "source": [
    "5. Exploratory data analysis. "
   ]
  },
  {
   "cell_type": "markdown",
   "metadata": {
    "papermill": {
     "duration": 0.04415,
     "end_time": "2021-08-22T15:13:30.773865",
     "exception": false,
     "start_time": "2021-08-22T15:13:30.729715",
     "status": "completed"
    },
    "tags": []
   },
   "source": [
    "Lets plot graph of SMPEP2, column that we need to predict and SMPEA which is daily price prediction given daily"
   ]
  },
  {
   "cell_type": "code",
   "execution_count": 10,
   "metadata": {
    "execution": {
     "iopub.execute_input": "2021-08-22T15:13:30.869313Z",
     "iopub.status.busy": "2021-08-22T15:13:30.868325Z",
     "iopub.status.idle": "2021-08-22T15:13:31.220973Z",
     "shell.execute_reply": "2021-08-22T15:13:31.220329Z",
     "shell.execute_reply.started": "2021-08-22T14:33:32.519454Z"
    },
    "papermill": {
     "duration": 0.401715,
     "end_time": "2021-08-22T15:13:31.221131",
     "exception": false,
     "start_time": "2021-08-22T15:13:30.819416",
     "status": "completed"
    },
    "tags": []
   },
   "outputs": [
    {
     "data": {
      "text/plain": [
       "<AxesSubplot:xlabel='DateTime'>"
      ]
     },
     "execution_count": 10,
     "metadata": {},
     "output_type": "execute_result"
    },
    {
     "data": {
      "image/png": "[encoded data removed]",
      "text/plain": [
       "<Figure size 432x288 with 1 Axes>"
      ]
     },
     "metadata": {
      "needs_background": "light"
     },
     "output_type": "display_data"
    }
   ],
   "source": [
    "X_eda=X.set_index('DateTime')\n",
    "X_eda[['SMPEA','SMPEP2']].resample('M').mean().plot()"
   ]
  },
  {
   "cell_type": "markdown",
   "metadata": {
    "papermill": {
     "duration": 0.045753,
     "end_time": "2021-08-22T15:13:31.313112",
     "exception": false,
     "start_time": "2021-08-22T15:13:31.267359",
     "status": "completed"
    },
    "tags": []
   },
   "source": [
    "There is a huge spike in price in february. Is there a possible outlier? Let's futher explore it through few scatter plots"
   ]
  },
  {
   "cell_type": "code",
   "execution_count": 11,
   "metadata": {
    "execution": {
     "iopub.execute_input": "2021-08-22T15:13:31.412060Z",
     "iopub.status.busy": "2021-08-22T15:13:31.411364Z",
     "iopub.status.idle": "2021-08-22T15:13:31.894908Z",
     "shell.execute_reply": "2021-08-22T15:13:31.894233Z",
     "shell.execute_reply.started": "2021-08-22T14:34:00.733621Z"
    },
    "papermill": {
     "duration": 0.535472,
     "end_time": "2021-08-22T15:13:31.895057",
     "exception": false,
     "start_time": "2021-08-22T15:13:31.359585",
     "status": "completed"
    },
    "tags": []
   },
   "outputs": [
    {
     "data": {
      "text/plain": [
       "<AxesSubplot:xlabel='WeekOfYear', ylabel='SMPEP2'>"
      ]
     },
     "execution_count": 11,
     "metadata": {},
     "output_type": "execute_result"
    },
    {
     "data": {
      "image/png": "[encoded data removed]",
      "text/plain": [
       "<Figure size 432x288 with 1 Axes>"
      ]
     },
     "metadata": {
      "needs_background": "light"
     },
     "output_type": "display_data"
    }
   ],
   "source": [
    "sns.scatterplot(data=X_eda, x='WeekOfYear', y='SMPEP2')\n",
    "sns.scatterplot(data=X_eda, x='WeekOfYear', y='SMPEA')"
   ]
  },
  {
   "cell_type": "code",
   "execution_count": 12,
   "metadata": {
    "execution": {
     "iopub.execute_input": "2021-08-22T15:13:31.996416Z",
     "iopub.status.busy": "2021-08-22T15:13:31.995682Z",
     "iopub.status.idle": "2021-08-22T15:13:32.471878Z",
     "shell.execute_reply": "2021-08-22T15:13:32.471306Z",
     "shell.execute_reply.started": "2021-08-22T14:34:03.972720Z"
    },
    "papermill": {
     "duration": 0.529306,
     "end_time": "2021-08-22T15:13:32.472030",
     "exception": false,
     "start_time": "2021-08-22T15:13:31.942724",
     "status": "completed"
    },
    "tags": []
   },
   "outputs": [
    {
     "data": {
      "text/plain": [
       "<AxesSubplot:xlabel='PeriodOfDay', ylabel='SMPEP2'>"
      ]
     },
     "execution_count": 12,
     "metadata": {},
     "output_type": "execute_result"
    },
    {
     "data": {
      "image/png": "[encoded data removed]",
      "text/plain": [
       "<Figure size 432x288 with 1 Axes>"
      ]
     },
     "metadata": {
      "needs_background": "light"
     },
     "output_type": "display_data"
    }
   ],
   "source": [
    "sns.scatterplot(data=X_eda, x='PeriodOfDay', y='SMPEP2')"
   ]
  },
  {
   "cell_type": "markdown",
   "metadata": {
    "papermill": {
     "duration": 0.050388,
     "end_time": "2021-08-22T15:13:32.572051",
     "exception": false,
     "start_time": "2021-08-22T15:13:32.521663",
     "status": "completed"
    },
    "tags": []
   },
   "source": [
    "From what we can see from scatterplots that these values are pretty closely related, and only one data entry sticks out."
   ]
  },
  {
   "cell_type": "code",
   "execution_count": 13,
   "metadata": {
    "execution": {
     "iopub.execute_input": "2021-08-22T15:13:32.678117Z",
     "iopub.status.busy": "2021-08-22T15:13:32.677457Z",
     "iopub.status.idle": "2021-08-22T15:13:32.696871Z",
     "shell.execute_reply": "2021-08-22T15:13:32.696171Z",
     "shell.execute_reply.started": "2021-08-22T14:34:07.931684Z"
    },
    "papermill": {
     "duration": 0.074856,
     "end_time": "2021-08-22T15:13:32.697028",
     "exception": false,
     "start_time": "2021-08-22T15:13:32.622172",
     "status": "completed"
    },
    "tags": []
   },
   "outputs": [
    {
     "data": {
      "text/html": [
       "<div>\n",
       "<style scoped>\n",
       "    .dataframe tbody tr th:only-of-type {\n",
       "        vertical-align: middle;\n",
       "    }\n",
       "\n",
       "    .dataframe tbody tr th {\n",
       "        vertical-align: top;\n",
       "    }\n",
       "\n",
       "    .dataframe thead th {\n",
       "        text-align: right;\n",
       "    }\n",
       "</style>\n",
       "<table border=\"1\" class=\"dataframe\">\n",
       "  <thead>\n",
       "    <tr style=\"text-align: right;\">\n",
       "      <th></th>\n",
       "      <th>Holiday</th>\n",
       "      <th>HolidayFlag</th>\n",
       "      <th>DayOfWeek</th>\n",
       "      <th>WeekOfYear</th>\n",
       "      <th>Day</th>\n",
       "      <th>Month</th>\n",
       "      <th>Year</th>\n",
       "      <th>PeriodOfDay</th>\n",
       "      <th>ForecastWindProduction</th>\n",
       "      <th>SystemLoadEA</th>\n",
       "      <th>SMPEA</th>\n",
       "      <th>ORKTemperature</th>\n",
       "      <th>ORKWindspeed</th>\n",
       "      <th>CO2Intensity</th>\n",
       "      <th>ActualWindProduction</th>\n",
       "      <th>SystemLoadEP2</th>\n",
       "      <th>SMPEP2</th>\n",
       "    </tr>\n",
       "    <tr>\n",
       "      <th>DateTime</th>\n",
       "      <th></th>\n",
       "      <th></th>\n",
       "      <th></th>\n",
       "      <th></th>\n",
       "      <th></th>\n",
       "      <th></th>\n",
       "      <th></th>\n",
       "      <th></th>\n",
       "      <th></th>\n",
       "      <th></th>\n",
       "      <th></th>\n",
       "      <th></th>\n",
       "      <th></th>\n",
       "      <th></th>\n",
       "      <th></th>\n",
       "      <th></th>\n",
       "      <th></th>\n",
       "    </tr>\n",
       "  </thead>\n",
       "  <tbody>\n",
       "    <tr>\n",
       "      <th>2013-02-26 05:30:00</th>\n",
       "      <td>None</td>\n",
       "      <td>0</td>\n",
       "      <td>1</td>\n",
       "      <td>9</td>\n",
       "      <td>26</td>\n",
       "      <td>2</td>\n",
       "      <td>2013</td>\n",
       "      <td>11</td>\n",
       "      <td>142.8</td>\n",
       "      <td>3370.41</td>\n",
       "      <td>44.18</td>\n",
       "      <td>1.0</td>\n",
       "      <td>13.0</td>\n",
       "      <td>580.92</td>\n",
       "      <td>86.0</td>\n",
       "      <td>3304.05</td>\n",
       "      <td>1000.0</td>\n",
       "    </tr>\n",
       "  </tbody>\n",
       "</table>\n",
       "</div>"
      ],
      "text/plain": [
       "                    Holiday  HolidayFlag  DayOfWeek  WeekOfYear  Day  Month  \\\n",
       "DateTime                                                                      \n",
       "2013-02-26 05:30:00    None            0          1           9   26      2   \n",
       "\n",
       "                     Year  PeriodOfDay  ForecastWindProduction  SystemLoadEA  \\\n",
       "DateTime                                                                       \n",
       "2013-02-26 05:30:00  2013           11                   142.8       3370.41   \n",
       "\n",
       "                     SMPEA  ORKTemperature  ORKWindspeed  CO2Intensity  \\\n",
       "DateTime                                                                 \n",
       "2013-02-26 05:30:00  44.18             1.0          13.0        580.92   \n",
       "\n",
       "                     ActualWindProduction  SystemLoadEP2  SMPEP2  \n",
       "DateTime                                                          \n",
       "2013-02-26 05:30:00                  86.0        3304.05  1000.0  "
      ]
     },
     "execution_count": 13,
     "metadata": {},
     "output_type": "execute_result"
    }
   ],
   "source": [
    "X_eda.loc[X_eda.SMPEP2==1000.00]"
   ]
  },
  {
   "cell_type": "markdown",
   "metadata": {
    "papermill": {
     "duration": 0.049949,
     "end_time": "2021-08-22T15:13:32.798375",
     "exception": false,
     "start_time": "2021-08-22T15:13:32.748426",
     "status": "completed"
    },
    "tags": []
   },
   "source": [
    "It looks like this entry  is a mistake. So we will remove from model later"
   ]
  },
  {
   "cell_type": "markdown",
   "metadata": {
    "papermill": {
     "duration": 0.050222,
     "end_time": "2021-08-22T15:13:32.899088",
     "exception": false,
     "start_time": "2021-08-22T15:13:32.848866",
     "status": "completed"
    },
    "tags": []
   },
   "source": [
    "**6. Modelling. **"
   ]
  },
  {
   "cell_type": "markdown",
   "metadata": {
    "papermill": {
     "duration": 0.050245,
     "end_time": "2021-08-22T15:13:33.000944",
     "exception": false,
     "start_time": "2021-08-22T15:13:32.950699",
     "status": "completed"
    },
    "tags": []
   },
   "source": [
    "To process this dataset we need hot-encode our categorical columns. Let's use hot-encoding and pd.get_dummies"
   ]
  },
  {
   "cell_type": "code",
   "execution_count": 14,
   "metadata": {
    "execution": {
     "iopub.execute_input": "2021-08-22T15:13:33.112515Z",
     "iopub.status.busy": "2021-08-22T15:13:33.111718Z",
     "iopub.status.idle": "2021-08-22T15:13:33.128331Z",
     "shell.execute_reply": "2021-08-22T15:13:33.128869Z",
     "shell.execute_reply.started": "2021-08-22T14:34:41.600140Z"
    },
    "papermill": {
     "duration": 0.077223,
     "end_time": "2021-08-22T15:13:33.129071",
     "exception": false,
     "start_time": "2021-08-22T15:13:33.051848",
     "status": "completed"
    },
    "tags": []
   },
   "outputs": [],
   "source": [
    "X.Holiday.nunique()\n",
    "one_hot = pd.get_dummies(X['Holiday'])\n",
    "X=X.drop('Holiday', axis=1)"
   ]
  },
  {
   "cell_type": "markdown",
   "metadata": {
    "papermill": {
     "duration": 0.050107,
     "end_time": "2021-08-22T15:13:33.229597",
     "exception": false,
     "start_time": "2021-08-22T15:13:33.179490",
     "status": "completed"
    },
    "tags": []
   },
   "source": [
    "Column 'Holiday' has been dropped, as it serves no purpose here."
   ]
  },
  {
   "cell_type": "code",
   "execution_count": 15,
   "metadata": {
    "execution": {
     "iopub.execute_input": "2021-08-22T15:13:33.334081Z",
     "iopub.status.busy": "2021-08-22T15:13:33.333432Z",
     "iopub.status.idle": "2021-08-22T15:13:33.347871Z",
     "shell.execute_reply": "2021-08-22T15:13:33.348441Z",
     "shell.execute_reply.started": "2021-08-22T14:34:48.664023Z"
    },
    "papermill": {
     "duration": 0.068649,
     "end_time": "2021-08-22T15:13:33.348652",
     "exception": false,
     "start_time": "2021-08-22T15:13:33.280003",
     "status": "completed"
    },
    "tags": []
   },
   "outputs": [
    {
     "data": {
      "text/html": [
       "<div>\n",
       "<style scoped>\n",
       "    .dataframe tbody tr th:only-of-type {\n",
       "        vertical-align: middle;\n",
       "    }\n",
       "\n",
       "    .dataframe tbody tr th {\n",
       "        vertical-align: top;\n",
       "    }\n",
       "\n",
       "    .dataframe thead th {\n",
       "        text-align: right;\n",
       "    }\n",
       "</style>\n",
       "<table border=\"1\" class=\"dataframe\">\n",
       "  <thead>\n",
       "    <tr style=\"text-align: right;\">\n",
       "      <th></th>\n",
       "      <th>August Bank Holiday</th>\n",
       "      <th>Christmas</th>\n",
       "      <th>Christmas Eve</th>\n",
       "      <th>Easter</th>\n",
       "      <th>Easter Monday</th>\n",
       "      <th>Good Friday</th>\n",
       "      <th>Holy Saturday</th>\n",
       "      <th>June Bank Holiday</th>\n",
       "      <th>May Day</th>\n",
       "      <th>New Year's Day</th>\n",
       "      <th>New Year's Eve</th>\n",
       "      <th>None</th>\n",
       "      <th>October Bank Holiday</th>\n",
       "      <th>St Patrick's Day</th>\n",
       "      <th>St Stephen's Day</th>\n",
       "    </tr>\n",
       "  </thead>\n",
       "  <tbody>\n",
       "    <tr>\n",
       "      <th>0</th>\n",
       "      <td>0</td>\n",
       "      <td>0</td>\n",
       "      <td>0</td>\n",
       "      <td>0</td>\n",
       "      <td>0</td>\n",
       "      <td>0</td>\n",
       "      <td>0</td>\n",
       "      <td>0</td>\n",
       "      <td>0</td>\n",
       "      <td>0</td>\n",
       "      <td>0</td>\n",
       "      <td>1</td>\n",
       "      <td>0</td>\n",
       "      <td>0</td>\n",
       "      <td>0</td>\n",
       "    </tr>\n",
       "    <tr>\n",
       "      <th>1</th>\n",
       "      <td>0</td>\n",
       "      <td>0</td>\n",
       "      <td>0</td>\n",
       "      <td>0</td>\n",
       "      <td>0</td>\n",
       "      <td>0</td>\n",
       "      <td>0</td>\n",
       "      <td>0</td>\n",
       "      <td>0</td>\n",
       "      <td>0</td>\n",
       "      <td>0</td>\n",
       "      <td>1</td>\n",
       "      <td>0</td>\n",
       "      <td>0</td>\n",
       "      <td>0</td>\n",
       "    </tr>\n",
       "    <tr>\n",
       "      <th>2</th>\n",
       "      <td>0</td>\n",
       "      <td>0</td>\n",
       "      <td>0</td>\n",
       "      <td>0</td>\n",
       "      <td>0</td>\n",
       "      <td>0</td>\n",
       "      <td>0</td>\n",
       "      <td>0</td>\n",
       "      <td>0</td>\n",
       "      <td>0</td>\n",
       "      <td>0</td>\n",
       "      <td>1</td>\n",
       "      <td>0</td>\n",
       "      <td>0</td>\n",
       "      <td>0</td>\n",
       "    </tr>\n",
       "    <tr>\n",
       "      <th>3</th>\n",
       "      <td>0</td>\n",
       "      <td>0</td>\n",
       "      <td>0</td>\n",
       "      <td>0</td>\n",
       "      <td>0</td>\n",
       "      <td>0</td>\n",
       "      <td>0</td>\n",
       "      <td>0</td>\n",
       "      <td>0</td>\n",
       "      <td>0</td>\n",
       "      <td>0</td>\n",
       "      <td>1</td>\n",
       "      <td>0</td>\n",
       "      <td>0</td>\n",
       "      <td>0</td>\n",
       "    </tr>\n",
       "    <tr>\n",
       "      <th>4</th>\n",
       "      <td>0</td>\n",
       "      <td>0</td>\n",
       "      <td>0</td>\n",
       "      <td>0</td>\n",
       "      <td>0</td>\n",
       "      <td>0</td>\n",
       "      <td>0</td>\n",
       "      <td>0</td>\n",
       "      <td>0</td>\n",
       "      <td>0</td>\n",
       "      <td>0</td>\n",
       "      <td>1</td>\n",
       "      <td>0</td>\n",
       "      <td>0</td>\n",
       "      <td>0</td>\n",
       "    </tr>\n",
       "  </tbody>\n",
       "</table>\n",
       "</div>"
      ],
      "text/plain": [
       "   August Bank Holiday  Christmas  Christmas Eve  Easter  Easter Monday  \\\n",
       "0                    0          0              0       0              0   \n",
       "1                    0          0              0       0              0   \n",
       "2                    0          0              0       0              0   \n",
       "3                    0          0              0       0              0   \n",
       "4                    0          0              0       0              0   \n",
       "\n",
       "   Good Friday  Holy Saturday  June Bank Holiday  May Day  New Year's Day  \\\n",
       "0            0              0                  0        0               0   \n",
       "1            0              0                  0        0               0   \n",
       "2            0              0                  0        0               0   \n",
       "3            0              0                  0        0               0   \n",
       "4            0              0                  0        0               0   \n",
       "\n",
       "   New Year's Eve  None  October Bank Holiday  St Patrick's Day  \\\n",
       "0               0     1                     0                 0   \n",
       "1               0     1                     0                 0   \n",
       "2               0     1                     0                 0   \n",
       "3               0     1                     0                 0   \n",
       "4               0     1                     0                 0   \n",
       "\n",
       "   St Stephen's Day  \n",
       "0                 0  \n",
       "1                 0  \n",
       "2                 0  \n",
       "3                 0  \n",
       "4                 0  "
      ]
     },
     "execution_count": 15,
     "metadata": {},
     "output_type": "execute_result"
    }
   ],
   "source": [
    "one_hot.head()"
   ]
  },
  {
   "cell_type": "markdown",
   "metadata": {
    "papermill": {
     "duration": 0.05082,
     "end_time": "2021-08-22T15:13:33.451382",
     "exception": false,
     "start_time": "2021-08-22T15:13:33.400562",
     "status": "completed"
    },
    "tags": []
   },
   "source": [
    "Merging initial dataset and one-hot encoded holidays"
   ]
  },
  {
   "cell_type": "code",
   "execution_count": 16,
   "metadata": {
    "execution": {
     "iopub.execute_input": "2021-08-22T15:13:33.557826Z",
     "iopub.status.busy": "2021-08-22T15:13:33.557163Z",
     "iopub.status.idle": "2021-08-22T15:13:33.567398Z",
     "shell.execute_reply": "2021-08-22T15:13:33.567875Z",
     "shell.execute_reply.started": "2021-08-22T14:34:51.508095Z"
    },
    "papermill": {
     "duration": 0.064513,
     "end_time": "2021-08-22T15:13:33.568085",
     "exception": false,
     "start_time": "2021-08-22T15:13:33.503572",
     "status": "completed"
    },
    "tags": []
   },
   "outputs": [],
   "source": [
    "X_merged=X.merge(one_hot, left_index=True, right_index=True)"
   ]
  },
  {
   "cell_type": "code",
   "execution_count": 17,
   "metadata": {
    "execution": {
     "iopub.execute_input": "2021-08-22T15:13:33.673024Z",
     "iopub.status.busy": "2021-08-22T15:13:33.672406Z",
     "iopub.status.idle": "2021-08-22T15:13:33.693542Z",
     "shell.execute_reply": "2021-08-22T15:13:33.694028Z",
     "shell.execute_reply.started": "2021-08-22T14:34:53.083944Z"
    },
    "papermill": {
     "duration": 0.075354,
     "end_time": "2021-08-22T15:13:33.694222",
     "exception": false,
     "start_time": "2021-08-22T15:13:33.618868",
     "status": "completed"
    },
    "tags": []
   },
   "outputs": [
    {
     "data": {
      "text/html": [
       "<div>\n",
       "<style scoped>\n",
       "    .dataframe tbody tr th:only-of-type {\n",
       "        vertical-align: middle;\n",
       "    }\n",
       "\n",
       "    .dataframe tbody tr th {\n",
       "        vertical-align: top;\n",
       "    }\n",
       "\n",
       "    .dataframe thead th {\n",
       "        text-align: right;\n",
       "    }\n",
       "</style>\n",
       "<table border=\"1\" class=\"dataframe\">\n",
       "  <thead>\n",
       "    <tr style=\"text-align: right;\">\n",
       "      <th></th>\n",
       "      <th>DateTime</th>\n",
       "      <th>HolidayFlag</th>\n",
       "      <th>DayOfWeek</th>\n",
       "      <th>WeekOfYear</th>\n",
       "      <th>Day</th>\n",
       "      <th>Month</th>\n",
       "      <th>Year</th>\n",
       "      <th>PeriodOfDay</th>\n",
       "      <th>ForecastWindProduction</th>\n",
       "      <th>SystemLoadEA</th>\n",
       "      <th>...</th>\n",
       "      <th>Good Friday</th>\n",
       "      <th>Holy Saturday</th>\n",
       "      <th>June Bank Holiday</th>\n",
       "      <th>May Day</th>\n",
       "      <th>New Year's Day</th>\n",
       "      <th>New Year's Eve</th>\n",
       "      <th>None</th>\n",
       "      <th>October Bank Holiday</th>\n",
       "      <th>St Patrick's Day</th>\n",
       "      <th>St Stephen's Day</th>\n",
       "    </tr>\n",
       "  </thead>\n",
       "  <tbody>\n",
       "    <tr>\n",
       "      <th>0</th>\n",
       "      <td>2011-11-01 00:00:00</td>\n",
       "      <td>0</td>\n",
       "      <td>1</td>\n",
       "      <td>44</td>\n",
       "      <td>1</td>\n",
       "      <td>11</td>\n",
       "      <td>2011</td>\n",
       "      <td>0</td>\n",
       "      <td>315.31</td>\n",
       "      <td>3388.77</td>\n",
       "      <td>...</td>\n",
       "      <td>0</td>\n",
       "      <td>0</td>\n",
       "      <td>0</td>\n",
       "      <td>0</td>\n",
       "      <td>0</td>\n",
       "      <td>0</td>\n",
       "      <td>1</td>\n",
       "      <td>0</td>\n",
       "      <td>0</td>\n",
       "      <td>0</td>\n",
       "    </tr>\n",
       "    <tr>\n",
       "      <th>1</th>\n",
       "      <td>2011-11-01 00:30:00</td>\n",
       "      <td>0</td>\n",
       "      <td>1</td>\n",
       "      <td>44</td>\n",
       "      <td>1</td>\n",
       "      <td>11</td>\n",
       "      <td>2011</td>\n",
       "      <td>1</td>\n",
       "      <td>321.80</td>\n",
       "      <td>3196.66</td>\n",
       "      <td>...</td>\n",
       "      <td>0</td>\n",
       "      <td>0</td>\n",
       "      <td>0</td>\n",
       "      <td>0</td>\n",
       "      <td>0</td>\n",
       "      <td>0</td>\n",
       "      <td>1</td>\n",
       "      <td>0</td>\n",
       "      <td>0</td>\n",
       "      <td>0</td>\n",
       "    </tr>\n",
       "    <tr>\n",
       "      <th>2</th>\n",
       "      <td>2011-11-01 01:00:00</td>\n",
       "      <td>0</td>\n",
       "      <td>1</td>\n",
       "      <td>44</td>\n",
       "      <td>1</td>\n",
       "      <td>11</td>\n",
       "      <td>2011</td>\n",
       "      <td>2</td>\n",
       "      <td>328.57</td>\n",
       "      <td>3060.71</td>\n",
       "      <td>...</td>\n",
       "      <td>0</td>\n",
       "      <td>0</td>\n",
       "      <td>0</td>\n",
       "      <td>0</td>\n",
       "      <td>0</td>\n",
       "      <td>0</td>\n",
       "      <td>1</td>\n",
       "      <td>0</td>\n",
       "      <td>0</td>\n",
       "      <td>0</td>\n",
       "    </tr>\n",
       "    <tr>\n",
       "      <th>3</th>\n",
       "      <td>2011-11-01 01:30:00</td>\n",
       "      <td>0</td>\n",
       "      <td>1</td>\n",
       "      <td>44</td>\n",
       "      <td>1</td>\n",
       "      <td>11</td>\n",
       "      <td>2011</td>\n",
       "      <td>3</td>\n",
       "      <td>335.60</td>\n",
       "      <td>2945.56</td>\n",
       "      <td>...</td>\n",
       "      <td>0</td>\n",
       "      <td>0</td>\n",
       "      <td>0</td>\n",
       "      <td>0</td>\n",
       "      <td>0</td>\n",
       "      <td>0</td>\n",
       "      <td>1</td>\n",
       "      <td>0</td>\n",
       "      <td>0</td>\n",
       "      <td>0</td>\n",
       "    </tr>\n",
       "    <tr>\n",
       "      <th>4</th>\n",
       "      <td>2011-11-01 02:00:00</td>\n",
       "      <td>0</td>\n",
       "      <td>1</td>\n",
       "      <td>44</td>\n",
       "      <td>1</td>\n",
       "      <td>11</td>\n",
       "      <td>2011</td>\n",
       "      <td>4</td>\n",
       "      <td>342.90</td>\n",
       "      <td>2849.34</td>\n",
       "      <td>...</td>\n",
       "      <td>0</td>\n",
       "      <td>0</td>\n",
       "      <td>0</td>\n",
       "      <td>0</td>\n",
       "      <td>0</td>\n",
       "      <td>0</td>\n",
       "      <td>1</td>\n",
       "      <td>0</td>\n",
       "      <td>0</td>\n",
       "      <td>0</td>\n",
       "    </tr>\n",
       "  </tbody>\n",
       "</table>\n",
       "<p>5 rows × 32 columns</p>\n",
       "</div>"
      ],
      "text/plain": [
       "             DateTime  HolidayFlag  DayOfWeek  WeekOfYear  Day  Month  Year  \\\n",
       "0 2011-11-01 00:00:00            0          1          44    1     11  2011   \n",
       "1 2011-11-01 00:30:00            0          1          44    1     11  2011   \n",
       "2 2011-11-01 01:00:00            0          1          44    1     11  2011   \n",
       "3 2011-11-01 01:30:00            0          1          44    1     11  2011   \n",
       "4 2011-11-01 02:00:00            0          1          44    1     11  2011   \n",
       "\n",
       "   PeriodOfDay  ForecastWindProduction  SystemLoadEA  ...  Good Friday  \\\n",
       "0            0                  315.31       3388.77  ...            0   \n",
       "1            1                  321.80       3196.66  ...            0   \n",
       "2            2                  328.57       3060.71  ...            0   \n",
       "3            3                  335.60       2945.56  ...            0   \n",
       "4            4                  342.90       2849.34  ...            0   \n",
       "\n",
       "   Holy Saturday  June Bank Holiday  May Day  New Year's Day  New Year's Eve  \\\n",
       "0              0                  0        0               0               0   \n",
       "1              0                  0        0               0               0   \n",
       "2              0                  0        0               0               0   \n",
       "3              0                  0        0               0               0   \n",
       "4              0                  0        0               0               0   \n",
       "\n",
       "   None  October Bank Holiday  St Patrick's Day  St Stephen's Day  \n",
       "0     1                     0                 0                 0  \n",
       "1     1                     0                 0                 0  \n",
       "2     1                     0                 0                 0  \n",
       "3     1                     0                 0                 0  \n",
       "4     1                     0                 0                 0  \n",
       "\n",
       "[5 rows x 32 columns]"
      ]
     },
     "execution_count": 17,
     "metadata": {},
     "output_type": "execute_result"
    }
   ],
   "source": [
    "X_merged.head()"
   ]
  },
  {
   "cell_type": "code",
   "execution_count": 18,
   "metadata": {
    "execution": {
     "iopub.execute_input": "2021-08-22T15:13:33.802313Z",
     "iopub.status.busy": "2021-08-22T15:13:33.801679Z",
     "iopub.status.idle": "2021-08-22T15:13:33.822576Z",
     "shell.execute_reply": "2021-08-22T15:13:33.822027Z",
     "shell.execute_reply.started": "2021-08-22T14:34:55.374038Z"
    },
    "papermill": {
     "duration": 0.07518,
     "end_time": "2021-08-22T15:13:33.822743",
     "exception": false,
     "start_time": "2021-08-22T15:13:33.747563",
     "status": "completed"
    },
    "tags": []
   },
   "outputs": [
    {
     "data": {
      "text/html": [
       "<div>\n",
       "<style scoped>\n",
       "    .dataframe tbody tr th:only-of-type {\n",
       "        vertical-align: middle;\n",
       "    }\n",
       "\n",
       "    .dataframe tbody tr th {\n",
       "        vertical-align: top;\n",
       "    }\n",
       "\n",
       "    .dataframe thead th {\n",
       "        text-align: right;\n",
       "    }\n",
       "</style>\n",
       "<table border=\"1\" class=\"dataframe\">\n",
       "  <thead>\n",
       "    <tr style=\"text-align: right;\">\n",
       "      <th></th>\n",
       "      <th>DateTime</th>\n",
       "      <th>HolidayFlag</th>\n",
       "      <th>DayOfWeek</th>\n",
       "      <th>WeekOfYear</th>\n",
       "      <th>Day</th>\n",
       "      <th>Month</th>\n",
       "      <th>Year</th>\n",
       "      <th>PeriodOfDay</th>\n",
       "      <th>ForecastWindProduction</th>\n",
       "      <th>SystemLoadEA</th>\n",
       "      <th>...</th>\n",
       "      <th>Good Friday</th>\n",
       "      <th>Holy Saturday</th>\n",
       "      <th>June Bank Holiday</th>\n",
       "      <th>May Day</th>\n",
       "      <th>New Year's Day</th>\n",
       "      <th>New Year's Eve</th>\n",
       "      <th>None</th>\n",
       "      <th>October Bank Holiday</th>\n",
       "      <th>St Patrick's Day</th>\n",
       "      <th>St Stephen's Day</th>\n",
       "    </tr>\n",
       "  </thead>\n",
       "  <tbody>\n",
       "    <tr>\n",
       "      <th>23193</th>\n",
       "      <td>2013-02-26 05:30:00</td>\n",
       "      <td>0</td>\n",
       "      <td>1</td>\n",
       "      <td>9</td>\n",
       "      <td>26</td>\n",
       "      <td>2</td>\n",
       "      <td>2013</td>\n",
       "      <td>11</td>\n",
       "      <td>142.8</td>\n",
       "      <td>3370.41</td>\n",
       "      <td>...</td>\n",
       "      <td>0</td>\n",
       "      <td>0</td>\n",
       "      <td>0</td>\n",
       "      <td>0</td>\n",
       "      <td>0</td>\n",
       "      <td>0</td>\n",
       "      <td>1</td>\n",
       "      <td>0</td>\n",
       "      <td>0</td>\n",
       "      <td>0</td>\n",
       "    </tr>\n",
       "  </tbody>\n",
       "</table>\n",
       "<p>1 rows × 32 columns</p>\n",
       "</div>"
      ],
      "text/plain": [
       "                 DateTime  HolidayFlag  DayOfWeek  WeekOfYear  Day  Month  \\\n",
       "23193 2013-02-26 05:30:00            0          1           9   26      2   \n",
       "\n",
       "       Year  PeriodOfDay  ForecastWindProduction  SystemLoadEA  ...  \\\n",
       "23193  2013           11                   142.8       3370.41  ...   \n",
       "\n",
       "       Good Friday  Holy Saturday  June Bank Holiday  May Day  New Year's Day  \\\n",
       "23193            0              0                  0        0               0   \n",
       "\n",
       "       New Year's Eve  None  October Bank Holiday  St Patrick's Day  \\\n",
       "23193               0     1                     0                 0   \n",
       "\n",
       "       St Stephen's Day  \n",
       "23193                 0  \n",
       "\n",
       "[1 rows x 32 columns]"
      ]
     },
     "execution_count": 18,
     "metadata": {},
     "output_type": "execute_result"
    }
   ],
   "source": [
    "X_merged.loc[X_merged.SMPEP2==1000.00]"
   ]
  },
  {
   "cell_type": "markdown",
   "metadata": {
    "papermill": {
     "duration": 0.05158,
     "end_time": "2021-08-22T15:13:33.927240",
     "exception": false,
     "start_time": "2021-08-22T15:13:33.875660",
     "status": "completed"
    },
    "tags": []
   },
   "source": [
    "Drop SMPEP2 extreme outlier."
   ]
  },
  {
   "cell_type": "code",
   "execution_count": 19,
   "metadata": {
    "execution": {
     "iopub.execute_input": "2021-08-22T15:13:34.042002Z",
     "iopub.status.busy": "2021-08-22T15:13:34.041221Z",
     "iopub.status.idle": "2021-08-22T15:13:34.055534Z",
     "shell.execute_reply": "2021-08-22T15:13:34.054788Z",
     "shell.execute_reply.started": "2021-08-22T14:34:59.787471Z"
    },
    "papermill": {
     "duration": 0.074903,
     "end_time": "2021-08-22T15:13:34.055704",
     "exception": false,
     "start_time": "2021-08-22T15:13:33.980801",
     "status": "completed"
    },
    "tags": []
   },
   "outputs": [],
   "source": [
    "X_merged=X_merged.drop([23193])"
   ]
  },
  {
   "cell_type": "markdown",
   "metadata": {
    "papermill": {
     "duration": 0.051589,
     "end_time": "2021-08-22T15:13:34.161465",
     "exception": false,
     "start_time": "2021-08-22T15:13:34.109876",
     "status": "completed"
    },
    "tags": []
   },
   "source": [
    "Also lets drop day, month, holidayflag columns because of their redundancy"
   ]
  },
  {
   "cell_type": "code",
   "execution_count": 20,
   "metadata": {
    "execution": {
     "iopub.execute_input": "2021-08-22T15:13:34.276344Z",
     "iopub.status.busy": "2021-08-22T15:13:34.275589Z",
     "iopub.status.idle": "2021-08-22T15:13:34.300995Z",
     "shell.execute_reply": "2021-08-22T15:13:34.300362Z",
     "shell.execute_reply.started": "2021-08-22T14:35:03.079815Z"
    },
    "papermill": {
     "duration": 0.087076,
     "end_time": "2021-08-22T15:13:34.301159",
     "exception": false,
     "start_time": "2021-08-22T15:13:34.214083",
     "status": "completed"
    },
    "tags": []
   },
   "outputs": [
    {
     "data": {
      "text/html": [
       "<div>\n",
       "<style scoped>\n",
       "    .dataframe tbody tr th:only-of-type {\n",
       "        vertical-align: middle;\n",
       "    }\n",
       "\n",
       "    .dataframe tbody tr th {\n",
       "        vertical-align: top;\n",
       "    }\n",
       "\n",
       "    .dataframe thead th {\n",
       "        text-align: right;\n",
       "    }\n",
       "</style>\n",
       "<table border=\"1\" class=\"dataframe\">\n",
       "  <thead>\n",
       "    <tr style=\"text-align: right;\">\n",
       "      <th></th>\n",
       "      <th>DateTime</th>\n",
       "      <th>DayOfWeek</th>\n",
       "      <th>WeekOfYear</th>\n",
       "      <th>Year</th>\n",
       "      <th>PeriodOfDay</th>\n",
       "      <th>ForecastWindProduction</th>\n",
       "      <th>SystemLoadEA</th>\n",
       "      <th>SMPEA</th>\n",
       "      <th>ORKTemperature</th>\n",
       "      <th>ORKWindspeed</th>\n",
       "      <th>...</th>\n",
       "      <th>Good Friday</th>\n",
       "      <th>Holy Saturday</th>\n",
       "      <th>June Bank Holiday</th>\n",
       "      <th>May Day</th>\n",
       "      <th>New Year's Day</th>\n",
       "      <th>New Year's Eve</th>\n",
       "      <th>None</th>\n",
       "      <th>October Bank Holiday</th>\n",
       "      <th>St Patrick's Day</th>\n",
       "      <th>St Stephen's Day</th>\n",
       "    </tr>\n",
       "  </thead>\n",
       "  <tbody>\n",
       "    <tr>\n",
       "      <th>0</th>\n",
       "      <td>2011-11-01 00:00:00</td>\n",
       "      <td>1</td>\n",
       "      <td>44</td>\n",
       "      <td>2011</td>\n",
       "      <td>0</td>\n",
       "      <td>315.31</td>\n",
       "      <td>3388.77</td>\n",
       "      <td>49.26</td>\n",
       "      <td>6.0</td>\n",
       "      <td>9.3</td>\n",
       "      <td>...</td>\n",
       "      <td>0</td>\n",
       "      <td>0</td>\n",
       "      <td>0</td>\n",
       "      <td>0</td>\n",
       "      <td>0</td>\n",
       "      <td>0</td>\n",
       "      <td>1</td>\n",
       "      <td>0</td>\n",
       "      <td>0</td>\n",
       "      <td>0</td>\n",
       "    </tr>\n",
       "    <tr>\n",
       "      <th>1</th>\n",
       "      <td>2011-11-01 00:30:00</td>\n",
       "      <td>1</td>\n",
       "      <td>44</td>\n",
       "      <td>2011</td>\n",
       "      <td>1</td>\n",
       "      <td>321.80</td>\n",
       "      <td>3196.66</td>\n",
       "      <td>49.26</td>\n",
       "      <td>6.0</td>\n",
       "      <td>11.1</td>\n",
       "      <td>...</td>\n",
       "      <td>0</td>\n",
       "      <td>0</td>\n",
       "      <td>0</td>\n",
       "      <td>0</td>\n",
       "      <td>0</td>\n",
       "      <td>0</td>\n",
       "      <td>1</td>\n",
       "      <td>0</td>\n",
       "      <td>0</td>\n",
       "      <td>0</td>\n",
       "    </tr>\n",
       "    <tr>\n",
       "      <th>2</th>\n",
       "      <td>2011-11-01 01:00:00</td>\n",
       "      <td>1</td>\n",
       "      <td>44</td>\n",
       "      <td>2011</td>\n",
       "      <td>2</td>\n",
       "      <td>328.57</td>\n",
       "      <td>3060.71</td>\n",
       "      <td>49.10</td>\n",
       "      <td>5.0</td>\n",
       "      <td>11.1</td>\n",
       "      <td>...</td>\n",
       "      <td>0</td>\n",
       "      <td>0</td>\n",
       "      <td>0</td>\n",
       "      <td>0</td>\n",
       "      <td>0</td>\n",
       "      <td>0</td>\n",
       "      <td>1</td>\n",
       "      <td>0</td>\n",
       "      <td>0</td>\n",
       "      <td>0</td>\n",
       "    </tr>\n",
       "    <tr>\n",
       "      <th>3</th>\n",
       "      <td>2011-11-01 01:30:00</td>\n",
       "      <td>1</td>\n",
       "      <td>44</td>\n",
       "      <td>2011</td>\n",
       "      <td>3</td>\n",
       "      <td>335.60</td>\n",
       "      <td>2945.56</td>\n",
       "      <td>48.04</td>\n",
       "      <td>6.0</td>\n",
       "      <td>9.3</td>\n",
       "      <td>...</td>\n",
       "      <td>0</td>\n",
       "      <td>0</td>\n",
       "      <td>0</td>\n",
       "      <td>0</td>\n",
       "      <td>0</td>\n",
       "      <td>0</td>\n",
       "      <td>1</td>\n",
       "      <td>0</td>\n",
       "      <td>0</td>\n",
       "      <td>0</td>\n",
       "    </tr>\n",
       "    <tr>\n",
       "      <th>4</th>\n",
       "      <td>2011-11-01 02:00:00</td>\n",
       "      <td>1</td>\n",
       "      <td>44</td>\n",
       "      <td>2011</td>\n",
       "      <td>4</td>\n",
       "      <td>342.90</td>\n",
       "      <td>2849.34</td>\n",
       "      <td>33.75</td>\n",
       "      <td>6.0</td>\n",
       "      <td>11.1</td>\n",
       "      <td>...</td>\n",
       "      <td>0</td>\n",
       "      <td>0</td>\n",
       "      <td>0</td>\n",
       "      <td>0</td>\n",
       "      <td>0</td>\n",
       "      <td>0</td>\n",
       "      <td>1</td>\n",
       "      <td>0</td>\n",
       "      <td>0</td>\n",
       "      <td>0</td>\n",
       "    </tr>\n",
       "  </tbody>\n",
       "</table>\n",
       "<p>5 rows × 29 columns</p>\n",
       "</div>"
      ],
      "text/plain": [
       "             DateTime  DayOfWeek  WeekOfYear  Year  PeriodOfDay  \\\n",
       "0 2011-11-01 00:00:00          1          44  2011            0   \n",
       "1 2011-11-01 00:30:00          1          44  2011            1   \n",
       "2 2011-11-01 01:00:00          1          44  2011            2   \n",
       "3 2011-11-01 01:30:00          1          44  2011            3   \n",
       "4 2011-11-01 02:00:00          1          44  2011            4   \n",
       "\n",
       "   ForecastWindProduction  SystemLoadEA  SMPEA  ORKTemperature  ORKWindspeed  \\\n",
       "0                  315.31       3388.77  49.26             6.0           9.3   \n",
       "1                  321.80       3196.66  49.26             6.0          11.1   \n",
       "2                  328.57       3060.71  49.10             5.0          11.1   \n",
       "3                  335.60       2945.56  48.04             6.0           9.3   \n",
       "4                  342.90       2849.34  33.75             6.0          11.1   \n",
       "\n",
       "   ...  Good Friday  Holy Saturday  June Bank Holiday  May Day  \\\n",
       "0  ...            0              0                  0        0   \n",
       "1  ...            0              0                  0        0   \n",
       "2  ...            0              0                  0        0   \n",
       "3  ...            0              0                  0        0   \n",
       "4  ...            0              0                  0        0   \n",
       "\n",
       "   New Year's Day  New Year's Eve  None  October Bank Holiday  \\\n",
       "0               0               0     1                     0   \n",
       "1               0               0     1                     0   \n",
       "2               0               0     1                     0   \n",
       "3               0               0     1                     0   \n",
       "4               0               0     1                     0   \n",
       "\n",
       "   St Patrick's Day  St Stephen's Day  \n",
       "0                 0                 0  \n",
       "1                 0                 0  \n",
       "2                 0                 0  \n",
       "3                 0                 0  \n",
       "4                 0                 0  \n",
       "\n",
       "[5 rows x 29 columns]"
      ]
     },
     "execution_count": 20,
     "metadata": {},
     "output_type": "execute_result"
    }
   ],
   "source": [
    "X_merged=X_merged.drop(['Day', 'Month', 'HolidayFlag'], axis=1)\n",
    "\n",
    "X_merged.head()"
   ]
  },
  {
   "cell_type": "markdown",
   "metadata": {
    "papermill": {
     "duration": 0.053503,
     "end_time": "2021-08-22T15:13:34.407978",
     "exception": false,
     "start_time": "2021-08-22T15:13:34.354475",
     "status": "completed"
    },
    "tags": []
   },
   "source": [
    "7. Model Building  "
   ]
  },
  {
   "cell_type": "markdown",
   "metadata": {
    "papermill": {
     "duration": 0.055629,
     "end_time": "2021-08-22T15:13:34.516227",
     "exception": false,
     "start_time": "2021-08-22T15:13:34.460598",
     "status": "completed"
    },
    "tags": []
   },
   "source": [
    "Let's start from finding out which parameters affect our y."
   ]
  },
  {
   "cell_type": "code",
   "execution_count": 21,
   "metadata": {
    "execution": {
     "iopub.execute_input": "2021-08-22T15:13:34.654889Z",
     "iopub.status.busy": "2021-08-22T15:13:34.653326Z",
     "iopub.status.idle": "2021-08-22T15:13:34.750419Z",
     "shell.execute_reply": "2021-08-22T15:13:34.750972Z",
     "shell.execute_reply.started": "2021-08-22T14:35:14.611610Z"
    },
    "papermill": {
     "duration": 0.165867,
     "end_time": "2021-08-22T15:13:34.751183",
     "exception": false,
     "start_time": "2021-08-22T15:13:34.585316",
     "status": "completed"
    },
    "tags": []
   },
   "outputs": [],
   "source": [
    "corr_data=X_merged.corr()[['SMPEP2']].sort_values(by='SMPEP2', ascending=False)"
   ]
  },
  {
   "cell_type": "code",
   "execution_count": 22,
   "metadata": {
    "execution": {
     "iopub.execute_input": "2021-08-22T15:13:34.868803Z",
     "iopub.status.busy": "2021-08-22T15:13:34.867878Z",
     "iopub.status.idle": "2021-08-22T15:13:34.873550Z",
     "shell.execute_reply": "2021-08-22T15:13:34.872885Z",
     "shell.execute_reply.started": "2021-08-22T14:35:16.420847Z"
    },
    "papermill": {
     "duration": 0.069325,
     "end_time": "2021-08-22T15:13:34.873710",
     "exception": false,
     "start_time": "2021-08-22T15:13:34.804385",
     "status": "completed"
    },
    "tags": []
   },
   "outputs": [
    {
     "data": {
      "text/html": [
       "<div>\n",
       "<style scoped>\n",
       "    .dataframe tbody tr th:only-of-type {\n",
       "        vertical-align: middle;\n",
       "    }\n",
       "\n",
       "    .dataframe tbody tr th {\n",
       "        vertical-align: top;\n",
       "    }\n",
       "\n",
       "    .dataframe thead th {\n",
       "        text-align: right;\n",
       "    }\n",
       "</style>\n",
       "<table border=\"1\" class=\"dataframe\">\n",
       "  <thead>\n",
       "    <tr style=\"text-align: right;\">\n",
       "      <th></th>\n",
       "      <th>SMPEP2</th>\n",
       "    </tr>\n",
       "  </thead>\n",
       "  <tbody>\n",
       "    <tr>\n",
       "      <th>SMPEP2</th>\n",
       "      <td>1.000000</td>\n",
       "    </tr>\n",
       "    <tr>\n",
       "      <th>SMPEA</th>\n",
       "      <td>0.624370</td>\n",
       "    </tr>\n",
       "    <tr>\n",
       "      <th>SystemLoadEP2</th>\n",
       "      <td>0.522343</td>\n",
       "    </tr>\n",
       "    <tr>\n",
       "      <th>SystemLoadEA</th>\n",
       "      <td>0.496245</td>\n",
       "    </tr>\n",
       "    <tr>\n",
       "      <th>PeriodOfDay</th>\n",
       "      <td>0.327169</td>\n",
       "    </tr>\n",
       "    <tr>\n",
       "      <th>Year</th>\n",
       "      <td>0.045188</td>\n",
       "    </tr>\n",
       "    <tr>\n",
       "      <th>Easter</th>\n",
       "      <td>0.015367</td>\n",
       "    </tr>\n",
       "    <tr>\n",
       "      <th>St Patrick's Day</th>\n",
       "      <td>0.013117</td>\n",
       "    </tr>\n",
       "    <tr>\n",
       "      <th>Good Friday</th>\n",
       "      <td>0.011391</td>\n",
       "    </tr>\n",
       "    <tr>\n",
       "      <th>May Day</th>\n",
       "      <td>0.004900</td>\n",
       "    </tr>\n",
       "  </tbody>\n",
       "</table>\n",
       "</div>"
      ],
      "text/plain": [
       "                    SMPEP2\n",
       "SMPEP2            1.000000\n",
       "SMPEA             0.624370\n",
       "SystemLoadEP2     0.522343\n",
       "SystemLoadEA      0.496245\n",
       "PeriodOfDay       0.327169\n",
       "Year              0.045188\n",
       "Easter            0.015367\n",
       "St Patrick's Day  0.013117\n",
       "Good Friday       0.011391\n",
       "May Day           0.004900"
      ]
     },
     "execution_count": 22,
     "metadata": {},
     "output_type": "execute_result"
    }
   ],
   "source": [
    "corr_data.head(10)"
   ]
  },
  {
   "cell_type": "markdown",
   "metadata": {
    "papermill": {
     "duration": 0.052942,
     "end_time": "2021-08-22T15:13:34.980626",
     "exception": false,
     "start_time": "2021-08-22T15:13:34.927684",
     "status": "completed"
    },
    "tags": []
   },
   "source": [
    "As we can see SMPEA (price prediction) is the most correlated with actual price, System load is also good predictor"
   ]
  },
  {
   "cell_type": "code",
   "execution_count": 23,
   "metadata": {
    "execution": {
     "iopub.execute_input": "2021-08-22T15:13:35.093694Z",
     "iopub.status.busy": "2021-08-22T15:13:35.092684Z",
     "iopub.status.idle": "2021-08-22T15:13:35.096097Z",
     "shell.execute_reply": "2021-08-22T15:13:35.095453Z",
     "shell.execute_reply.started": "2021-08-22T14:35:19.815706Z"
    },
    "papermill": {
     "duration": 0.062352,
     "end_time": "2021-08-22T15:13:35.096253",
     "exception": false,
     "start_time": "2021-08-22T15:13:35.033901",
     "status": "completed"
    },
    "tags": []
   },
   "outputs": [],
   "source": [
    "y=X_merged.SMPEP2"
   ]
  },
  {
   "cell_type": "markdown",
   "metadata": {
    "papermill": {
     "duration": 0.052859,
     "end_time": "2021-08-22T15:13:35.203434",
     "exception": false,
     "start_time": "2021-08-22T15:13:35.150575",
     "status": "completed"
    },
    "tags": []
   },
   "source": [
    "Firstly, we will build our model with only highly correlated parameters, after that we will encorporate all of the parameters.\n",
    "Our model building flow will be:\n",
    "only highly correlated features: XGB -> XGB(tuned) -> RFR\n",
    "all the data: XGB -> XGB(tuned) -> RFR\n",
    "for every model we will calculate mean absolute error"
   ]
  },
  {
   "cell_type": "code",
   "execution_count": 24,
   "metadata": {
    "execution": {
     "iopub.execute_input": "2021-08-22T15:13:35.317527Z",
     "iopub.status.busy": "2021-08-22T15:13:35.316723Z",
     "iopub.status.idle": "2021-08-22T15:13:35.319584Z",
     "shell.execute_reply": "2021-08-22T15:13:35.320108Z",
     "shell.execute_reply.started": "2021-08-22T14:35:21.899498Z"
    },
    "papermill": {
     "duration": 0.063125,
     "end_time": "2021-08-22T15:13:35.320343",
     "exception": false,
     "start_time": "2021-08-22T15:13:35.257218",
     "status": "completed"
    },
    "tags": []
   },
   "outputs": [],
   "source": [
    "X_clean=X_merged[['SMPEA','SystemLoadEP2','SystemLoadEA', 'PeriodOfDay']]"
   ]
  },
  {
   "cell_type": "markdown",
   "metadata": {
    "papermill": {
     "duration": 0.05544,
     "end_time": "2021-08-22T15:13:35.428950",
     "exception": false,
     "start_time": "2021-08-22T15:13:35.373510",
     "status": "completed"
    },
    "tags": []
   },
   "source": [
    "split our model into validation set and training set"
   ]
  },
  {
   "cell_type": "code",
   "execution_count": 25,
   "metadata": {
    "execution": {
     "iopub.execute_input": "2021-08-22T15:13:35.542039Z",
     "iopub.status.busy": "2021-08-22T15:13:35.541340Z",
     "iopub.status.idle": "2021-08-22T15:13:35.548503Z",
     "shell.execute_reply": "2021-08-22T15:13:35.547954Z",
     "shell.execute_reply.started": "2021-08-22T14:35:26.790729Z"
    },
    "papermill": {
     "duration": 0.066697,
     "end_time": "2021-08-22T15:13:35.548670",
     "exception": false,
     "start_time": "2021-08-22T15:13:35.481973",
     "status": "completed"
    },
    "tags": []
   },
   "outputs": [],
   "source": [
    "X_train, X_valid, y_train, y_valid = train_test_split(X_clean, y)"
   ]
  },
  {
   "cell_type": "markdown",
   "metadata": {
    "papermill": {
     "duration": 0.052494,
     "end_time": "2021-08-22T15:13:35.654439",
     "exception": false,
     "start_time": "2021-08-22T15:13:35.601945",
     "status": "completed"
    },
    "tags": []
   },
   "source": [
    "First, we will use XBG algorithm to make a price predicting model"
   ]
  },
  {
   "cell_type": "code",
   "execution_count": 26,
   "metadata": {
    "execution": {
     "iopub.execute_input": "2021-08-22T15:13:35.767523Z",
     "iopub.status.busy": "2021-08-22T15:13:35.766814Z",
     "iopub.status.idle": "2021-08-22T15:13:37.550815Z",
     "shell.execute_reply": "2021-08-22T15:13:37.550135Z",
     "shell.execute_reply.started": "2021-08-22T14:49:03.472066Z"
    },
    "papermill": {
     "duration": 1.843741,
     "end_time": "2021-08-22T15:13:37.550969",
     "exception": false,
     "start_time": "2021-08-22T15:13:35.707228",
     "status": "completed"
    },
    "tags": []
   },
   "outputs": [
    {
     "data": {
      "text/plain": [
       "XGBRegressor(base_score=0.5, booster='gbtree', colsample_bylevel=1,\n",
       "             colsample_bynode=1, colsample_bytree=1, gamma=0, gpu_id=-1,\n",
       "             importance_type='gain', interaction_constraints='',\n",
       "             learning_rate=0.300000012, max_delta_step=0, max_depth=6,\n",
       "             min_child_weight=1, missing=nan, monotone_constraints='()',\n",
       "             n_estimators=100, n_jobs=4, num_parallel_tree=1, random_state=63,\n",
       "             reg_alpha=0, reg_lambda=1, scale_pos_weight=1, subsample=1,\n",
       "             tree_method='exact', validate_parameters=1, verbosity=None)"
      ]
     },
     "execution_count": 26,
     "metadata": {},
     "output_type": "execute_result"
    }
   ],
   "source": [
    "my_model = XGBRegressor(random_state=63)\n",
    "my_model.fit(X_train, y_train)"
   ]
  },
  {
   "cell_type": "code",
   "execution_count": 27,
   "metadata": {
    "execution": {
     "iopub.execute_input": "2021-08-22T15:13:37.672243Z",
     "iopub.status.busy": "2021-08-22T15:13:37.661475Z",
     "iopub.status.idle": "2021-08-22T15:13:37.677322Z",
     "shell.execute_reply": "2021-08-22T15:13:37.677852Z",
     "shell.execute_reply.started": "2021-08-22T14:49:05.145005Z"
    },
    "papermill": {
     "duration": 0.074431,
     "end_time": "2021-08-22T15:13:37.678088",
     "exception": false,
     "start_time": "2021-08-22T15:13:37.603657",
     "status": "completed"
    },
    "tags": []
   },
   "outputs": [],
   "source": [
    "predictions = my_model.predict(X_valid)"
   ]
  },
  {
   "cell_type": "markdown",
   "metadata": {
    "papermill": {
     "duration": 0.05387,
     "end_time": "2021-08-22T15:13:37.787354",
     "exception": false,
     "start_time": "2021-08-22T15:13:37.733484",
     "status": "completed"
    },
    "tags": []
   },
   "source": [
    "Calculate mean absolute error of the model"
   ]
  },
  {
   "cell_type": "code",
   "execution_count": 28,
   "metadata": {
    "execution": {
     "iopub.execute_input": "2021-08-22T15:13:37.900289Z",
     "iopub.status.busy": "2021-08-22T15:13:37.899584Z",
     "iopub.status.idle": "2021-08-22T15:13:37.904255Z",
     "shell.execute_reply": "2021-08-22T15:13:37.903666Z",
     "shell.execute_reply.started": "2021-08-22T14:49:06.366041Z"
    },
    "papermill": {
     "duration": 0.063633,
     "end_time": "2021-08-22T15:13:37.904429",
     "exception": false,
     "start_time": "2021-08-22T15:13:37.840796",
     "status": "completed"
    },
    "tags": []
   },
   "outputs": [],
   "source": [
    "mae_XBG=mean_absolute_error(predictions,y_valid)\n",
    "mean_y=X_merged.SMPEP2.mean()"
   ]
  },
  {
   "cell_type": "code",
   "execution_count": 29,
   "metadata": {
    "execution": {
     "iopub.execute_input": "2021-08-22T15:13:38.017245Z",
     "iopub.status.busy": "2021-08-22T15:13:38.016569Z",
     "iopub.status.idle": "2021-08-22T15:13:38.020367Z",
     "shell.execute_reply": "2021-08-22T15:13:38.019471Z",
     "shell.execute_reply.started": "2021-08-22T14:49:11.628774Z"
    },
    "papermill": {
     "duration": 0.062728,
     "end_time": "2021-08-22T15:13:38.020569",
     "exception": false,
     "start_time": "2021-08-22T15:13:37.957841",
     "status": "completed"
    },
    "tags": []
   },
   "outputs": [
    {
     "name": "stdout",
     "output_type": "stream",
     "text": [
      "Mean Absolute Error: 13.37367326230105\n",
      "prediction accuracy: 0.7915461181224545\n"
     ]
    }
   ],
   "source": [
    "print(\"Mean Absolute Error: \" + str(mae_XBG))\n",
    "print('prediction accuracy: ' +str(1-mae_XBG/mean_y))"
   ]
  },
  {
   "cell_type": "markdown",
   "metadata": {
    "papermill": {
     "duration": 0.054058,
     "end_time": "2021-08-22T15:13:38.130623",
     "exception": false,
     "start_time": "2021-08-22T15:13:38.076565",
     "status": "completed"
    },
    "tags": []
   },
   "source": [
    "As we can see MAE equals 13.53. Lets we can tune it to lesser MAE"
   ]
  },
  {
   "cell_type": "code",
   "execution_count": 30,
   "metadata": {
    "execution": {
     "iopub.execute_input": "2021-08-22T15:13:38.246724Z",
     "iopub.status.busy": "2021-08-22T15:13:38.245876Z",
     "iopub.status.idle": "2021-08-22T15:13:49.869563Z",
     "shell.execute_reply": "2021-08-22T15:13:49.868929Z",
     "shell.execute_reply.started": "2021-08-22T14:56:36.579010Z"
    },
    "papermill": {
     "duration": 11.684664,
     "end_time": "2021-08-22T15:13:49.869756",
     "exception": false,
     "start_time": "2021-08-22T15:13:38.185092",
     "status": "completed"
    },
    "tags": []
   },
   "outputs": [
    {
     "data": {
      "text/plain": [
       "XGBRegressor(base_score=0.5, booster='gbtree', colsample_bylevel=1,\n",
       "             colsample_bynode=1, colsample_bytree=1, gamma=0, gpu_id=-1,\n",
       "             importance_type='gain', interaction_constraints='',\n",
       "             learning_rate=0.05, max_delta_step=0, max_depth=6,\n",
       "             min_child_weight=1, missing=nan, monotone_constraints='()',\n",
       "             n_estimators=600, n_jobs=4, num_parallel_tree=1, random_state=0,\n",
       "             reg_alpha=0, reg_lambda=1, scale_pos_weight=1, subsample=1,\n",
       "             tree_method='exact', validate_parameters=1, verbosity=None)"
      ]
     },
     "execution_count": 30,
     "metadata": {},
     "output_type": "execute_result"
    }
   ],
   "source": [
    "my_model_tuned= XGBRegressor(n_estimators=600, learning_rate=0.05)\n",
    "my_model_tuned.fit(X_train, y_train)"
   ]
  },
  {
   "cell_type": "code",
   "execution_count": 31,
   "metadata": {
    "execution": {
     "iopub.execute_input": "2021-08-22T15:13:49.995945Z",
     "iopub.status.busy": "2021-08-22T15:13:49.984942Z",
     "iopub.status.idle": "2021-08-22T15:13:50.045382Z",
     "shell.execute_reply": "2021-08-22T15:13:50.045984Z",
     "shell.execute_reply.started": "2021-08-22T14:56:46.276543Z"
    },
    "papermill": {
     "duration": 0.122448,
     "end_time": "2021-08-22T15:13:50.046183",
     "exception": false,
     "start_time": "2021-08-22T15:13:49.923735",
     "status": "completed"
    },
    "tags": []
   },
   "outputs": [],
   "source": [
    "predictions_2=my_model_tuned.predict(X_valid)"
   ]
  },
  {
   "cell_type": "code",
   "execution_count": 32,
   "metadata": {
    "execution": {
     "iopub.execute_input": "2021-08-22T15:13:50.169972Z",
     "iopub.status.busy": "2021-08-22T15:13:50.169054Z",
     "iopub.status.idle": "2021-08-22T15:13:50.173806Z",
     "shell.execute_reply": "2021-08-22T15:13:50.174361Z",
     "shell.execute_reply.started": "2021-08-22T14:57:32.179888Z"
    },
    "papermill": {
     "duration": 0.068683,
     "end_time": "2021-08-22T15:13:50.174544",
     "exception": false,
     "start_time": "2021-08-22T15:13:50.105861",
     "status": "completed"
    },
    "tags": []
   },
   "outputs": [
    {
     "name": "stdout",
     "output_type": "stream",
     "text": [
      "Mean Absolute Error: 13.209479273439857\n",
      "prediction accuracy: 0.7941053906340356\n"
     ]
    }
   ],
   "source": [
    "mae_XBG2=mean_absolute_error(predictions_2,y_valid)\n",
    "mean_y=X_merged.SMPEP2.mean()\n",
    "print(\"Mean Absolute Error: \" + str(mae_XBG2))\n",
    "print('prediction accuracy: ' +str(1-mae_XBG2/mean_y))"
   ]
  },
  {
   "cell_type": "markdown",
   "metadata": {
    "papermill": {
     "duration": 0.053559,
     "end_time": "2021-08-22T15:13:50.284371",
     "exception": false,
     "start_time": "2021-08-22T15:13:50.230812",
     "status": "completed"
    },
    "tags": []
   },
   "source": [
    "Now we will use Random Forest regression model."
   ]
  },
  {
   "cell_type": "code",
   "execution_count": 33,
   "metadata": {
    "execution": {
     "iopub.execute_input": "2021-08-22T15:13:50.396754Z",
     "iopub.status.busy": "2021-08-22T15:13:50.395904Z",
     "iopub.status.idle": "2021-08-22T15:14:02.968492Z",
     "shell.execute_reply": "2021-08-22T15:14:02.968955Z"
    },
    "papermill": {
     "duration": 12.630689,
     "end_time": "2021-08-22T15:14:02.969167",
     "exception": false,
     "start_time": "2021-08-22T15:13:50.338478",
     "status": "completed"
    },
    "tags": []
   },
   "outputs": [
    {
     "name": "stdout",
     "output_type": "stream",
     "text": [
      "Mean Absolute Error: 12.420901241906378\n",
      "prediction accuracy: 0.8063968642338791\n"
     ]
    }
   ],
   "source": [
    "forest_model = RandomForestRegressor(random_state=63)\n",
    "forest_model.fit(X_train, y_train)\n",
    "fores_preds = forest_model.predict(X_valid)\n",
    "forest_mae=mean_absolute_error(y_valid, fores_preds)\n",
    "print(\"Mean Absolute Error: \" + str(forest_mae))\n",
    "print('prediction accuracy: ' +str(1-forest_mae/mean_y))"
   ]
  },
  {
   "cell_type": "code",
   "execution_count": 34,
   "metadata": {
    "execution": {
     "iopub.execute_input": "2021-08-22T15:14:03.093843Z",
     "iopub.status.busy": "2021-08-22T15:14:03.092792Z",
     "iopub.status.idle": "2021-08-22T15:14:06.323713Z",
     "shell.execute_reply": "2021-08-22T15:14:06.324253Z"
    },
    "papermill": {
     "duration": 3.299785,
     "end_time": "2021-08-22T15:14:06.324511",
     "exception": false,
     "start_time": "2021-08-22T15:14:03.024726",
     "status": "completed"
    },
    "tags": []
   },
   "outputs": [],
   "source": [
    "X_v2=X_merged.drop(['SMPEP2','DateTime'],axis=1)\n",
    "X_train, X_valid, y_train, y_valid = train_test_split(X_v2, y)\n",
    "model_XGB_full= XGBRegressor(random_state=63)\n",
    "model_XGB_full.fit(X_train, y_train)\n",
    "predictions_3= model_XGB_full.predict(X_valid)"
   ]
  },
  {
   "cell_type": "code",
   "execution_count": 35,
   "metadata": {
    "execution": {
     "iopub.execute_input": "2021-08-22T15:14:06.446542Z",
     "iopub.status.busy": "2021-08-22T15:14:06.445459Z",
     "iopub.status.idle": "2021-08-22T15:14:06.451750Z",
     "shell.execute_reply": "2021-08-22T15:14:06.452448Z"
    },
    "papermill": {
     "duration": 0.069233,
     "end_time": "2021-08-22T15:14:06.452722",
     "exception": false,
     "start_time": "2021-08-22T15:14:06.383489",
     "status": "completed"
    },
    "tags": []
   },
   "outputs": [
    {
     "name": "stdout",
     "output_type": "stream",
     "text": [
      "Mean Absolute Error: 11.422052940645612\n",
      "prediction accuracy: 0.8219657959492614\n"
     ]
    }
   ],
   "source": [
    "mae_XBG3=mean_absolute_error(predictions_3,y_valid)\n",
    "mean_y=X_merged.SMPEP2.mean()\n",
    "print(\"Mean Absolute Error: \" + str(mae_XBG3))\n",
    "print('prediction accuracy: ' +str((mean_y-mae_XBG3)/mean_y))"
   ]
  },
  {
   "cell_type": "code",
   "execution_count": 36,
   "metadata": {
    "execution": {
     "iopub.execute_input": "2021-08-22T15:14:06.571074Z",
     "iopub.status.busy": "2021-08-22T15:14:06.570065Z",
     "iopub.status.idle": "2021-08-22T15:15:08.270255Z",
     "shell.execute_reply": "2021-08-22T15:15:08.269703Z"
    },
    "papermill": {
     "duration": 61.75975,
     "end_time": "2021-08-22T15:15:08.270436",
     "exception": false,
     "start_time": "2021-08-22T15:14:06.510686",
     "status": "completed"
    },
    "tags": []
   },
   "outputs": [],
   "source": [
    "X_train, X_valid, y_train, y_valid = train_test_split(X_v2, y)\n",
    "forest_model_full = RandomForestRegressor(random_state=63)\n",
    "forest_model_full.fit(X_train, y_train)\n",
    "forest_model_full.fit(X_train, y_train)\n",
    "predictions_fmf= forest_model_full.predict(X_valid)"
   ]
  },
  {
   "cell_type": "code",
   "execution_count": 37,
   "metadata": {
    "execution": {
     "iopub.execute_input": "2021-08-22T15:15:08.388684Z",
     "iopub.status.busy": "2021-08-22T15:15:08.387985Z",
     "iopub.status.idle": "2021-08-22T15:15:08.390884Z",
     "shell.execute_reply": "2021-08-22T15:15:08.391399Z"
    },
    "papermill": {
     "duration": 0.065514,
     "end_time": "2021-08-22T15:15:08.391594",
     "exception": false,
     "start_time": "2021-08-22T15:15:08.326080",
     "status": "completed"
    },
    "tags": []
   },
   "outputs": [
    {
     "name": "stdout",
     "output_type": "stream",
     "text": [
      "Mean Absolute Error: 9.397759515974949\n",
      "prediction accuracy: 0.8535182209379355\n"
     ]
    }
   ],
   "source": [
    "fmf_mae=mean_absolute_error(y_valid, predictions_fmf)\n",
    "print(\"Mean Absolute Error: \" + str(fmf_mae))\n",
    "print('prediction accuracy: ' +str(1-fmf_mae/mean_y))"
   ]
  },
  {
   "cell_type": "markdown",
   "metadata": {
    "papermill": {
     "duration": 0.056781,
     "end_time": "2021-08-22T15:15:08.506516",
     "exception": false,
     "start_time": "2021-08-22T15:15:08.449735",
     "status": "completed"
    },
    "tags": []
   },
   "source": [
    "As we can see the most accurate model is Random Forest Regression used on full dataset."
   ]
  }
 ],
 "metadata": {
  "kernelspec": {
   "display_name": "Python 3",
   "language": "python",
   "name": "python3"
  },
  "language_info": {
   "codemirror_mode": {
    "name": "ipython",
    "version": 3
   },
   "file_extension": ".py",
   "mimetype": "text/x-python",
   "name": "python",
   "nbconvert_exporter": "python",
   "pygments_lexer": "ipython3",
   "version": "3.7.4"
  },
  "papermill": {
   "default_parameters": {},
   "duration": 114.552138,
   "end_time": "2021-08-22T15:15:09.374825",
   "environment_variables": {},
   "exception": null,
   "input_path": "__notebook__.ipynb",
   "output_path": "__notebook__.ipynb",
   "parameters": {},
   "start_time": "2021-08-22T15:13:14.822687",
   "version": "2.3.3"
  }
 },
 "nbformat": 4,
 "nbformat_minor": 5
}
